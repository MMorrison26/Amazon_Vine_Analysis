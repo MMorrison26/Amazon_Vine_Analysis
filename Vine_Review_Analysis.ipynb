{
  "nbformat": 4,
  "nbformat_minor": 0,
  "metadata": {
    "colab": {
      "name": "Vine_Review_Analysis.ipynb",
      "provenance": [],
      "collapsed_sections": []
    },
    "kernelspec": {
      "name": "python3",
      "display_name": "Python 3"
    },
    "language_info": {
      "name": "python"
    }
  },
  "cells": [
    {
      "cell_type": "code",
      "metadata": {
        "colab": {
          "base_uri": "https://localhost:8080/"
        },
        "id": "f5xtxVGds4EN",
        "outputId": "efa1974a-8a5c-4061-bb67-2f9088f39740"
      },
      "source": [
        "import os\n",
        "# Find the latest version of spark 3.0  from http://www.apache.org/dist/spark/ and enter as the spark version\n",
        "# For example:\n",
        "# spark_version = 'spark-3.0.3'\n",
        "spark_version = 'spark-3.1.2'\n",
        "os.environ['SPARK_VERSION']=spark_version\n",
        "\n",
        "# Install Spark and Java\n",
        "!apt-get update\n",
        "!apt-get install openjdk-8-jdk-headless -qq > /dev/null\n",
        "!wget -q http://www.apache.org/dist/spark/$SPARK_VERSION/$SPARK_VERSION-bin-hadoop2.7.tgz\n",
        "!tar xf $SPARK_VERSION-bin-hadoop2.7.tgz\n",
        "!pip install -q findspark\n",
        "\n",
        "# Set Environment Variables\n",
        "os.environ[\"JAVA_HOME\"] = \"/usr/lib/jvm/java-8-openjdk-amd64\"\n",
        "os.environ[\"SPARK_HOME\"] = f\"/content/{spark_version}-bin-hadoop2.7\"\n",
        "\n",
        "# Start a SparkSession\n",
        "import findspark\n",
        "findspark.init()"
      ],
      "execution_count": 1,
      "outputs": [
        {
          "output_type": "stream",
          "name": "stdout",
          "text": [
            "\r0% [Working]\r            \rGet:1 http://security.ubuntu.com/ubuntu bionic-security InRelease [88.7 kB]\n",
            "Ign:2 https://developer.download.nvidia.com/compute/cuda/repos/ubuntu1804/x86_64  InRelease\n",
            "Get:3 https://cloud.r-project.org/bin/linux/ubuntu bionic-cran40/ InRelease [3,626 B]\n",
            "Get:4 http://ppa.launchpad.net/c2d4u.team/c2d4u4.0+/ubuntu bionic InRelease [15.9 kB]\n",
            "Ign:5 https://developer.download.nvidia.com/compute/machine-learning/repos/ubuntu1804/x86_64  InRelease\n",
            "Get:6 https://developer.download.nvidia.com/compute/cuda/repos/ubuntu1804/x86_64  Release [696 B]\n",
            "Hit:7 http://archive.ubuntu.com/ubuntu bionic InRelease\n",
            "Hit:8 https://developer.download.nvidia.com/compute/machine-learning/repos/ubuntu1804/x86_64  Release\n",
            "Get:9 https://developer.download.nvidia.com/compute/cuda/repos/ubuntu1804/x86_64  Release.gpg [836 B]\n",
            "Get:10 http://archive.ubuntu.com/ubuntu bionic-updates InRelease [88.7 kB]\n",
            "Hit:11 http://ppa.launchpad.net/cran/libgit2/ubuntu bionic InRelease\n",
            "Hit:12 http://ppa.launchpad.net/deadsnakes/ppa/ubuntu bionic InRelease\n",
            "Get:13 http://security.ubuntu.com/ubuntu bionic-security/universe amd64 Packages [1,444 kB]\n",
            "Get:14 http://archive.ubuntu.com/ubuntu bionic-backports InRelease [74.6 kB]\n",
            "Get:15 http://ppa.launchpad.net/graphics-drivers/ppa/ubuntu bionic InRelease [21.3 kB]\n",
            "Get:16 http://security.ubuntu.com/ubuntu bionic-security/restricted amd64 Packages [691 kB]\n",
            "Get:17 http://security.ubuntu.com/ubuntu bionic-security/main amd64 Packages [2,461 kB]\n",
            "Get:19 https://developer.download.nvidia.com/compute/cuda/repos/ubuntu1804/x86_64  Packages [829 kB]\n",
            "Get:20 http://ppa.launchpad.net/c2d4u.team/c2d4u4.0+/ubuntu bionic/main Sources [1,813 kB]\n",
            "Get:21 http://archive.ubuntu.com/ubuntu bionic-updates/universe amd64 Packages [2,225 kB]\n",
            "Get:22 http://archive.ubuntu.com/ubuntu bionic-updates/restricted amd64 Packages [725 kB]\n",
            "Get:23 http://ppa.launchpad.net/c2d4u.team/c2d4u4.0+/ubuntu bionic/main amd64 Packages [930 kB]\n",
            "Get:24 http://archive.ubuntu.com/ubuntu bionic-updates/main amd64 Packages [2,898 kB]\n",
            "Get:25 http://ppa.launchpad.net/graphics-drivers/ppa/ubuntu bionic/main amd64 Packages [44.7 kB]\n",
            "Fetched 14.4 MB in 4s (3,840 kB/s)\n",
            "Reading package lists... Done\n"
          ]
        }
      ]
    },
    {
      "cell_type": "code",
      "metadata": {
        "colab": {
          "base_uri": "https://localhost:8080/"
        },
        "id": "HM8I-3CBtuQw",
        "outputId": "6d1998ce-905b-440c-f6e3-89648e8b1a01"
      },
      "source": [
        "# Download the Postgres driver that will allow Spark to interact with Postgres.\n",
        "!wget https://jdbc.postgresql.org/download/postgresql-42.2.16.jar"
      ],
      "execution_count": 2,
      "outputs": [
        {
          "output_type": "stream",
          "name": "stdout",
          "text": [
            "--2021-12-04 19:52:40--  https://jdbc.postgresql.org/download/postgresql-42.2.16.jar\n",
            "Resolving jdbc.postgresql.org (jdbc.postgresql.org)... 72.32.157.228, 2001:4800:3e1:1::228\n",
            "Connecting to jdbc.postgresql.org (jdbc.postgresql.org)|72.32.157.228|:443... connected.\n",
            "HTTP request sent, awaiting response... 200 OK\n",
            "Length: 1002883 (979K) [application/java-archive]\n",
            "Saving to: ‘postgresql-42.2.16.jar’\n",
            "\n",
            "postgresql-42.2.16. 100%[===================>] 979.38K  --.-KB/s    in 0.1s    \n",
            "\n",
            "2021-12-04 19:52:40 (6.59 MB/s) - ‘postgresql-42.2.16.jar’ saved [1002883/1002883]\n",
            "\n"
          ]
        }
      ]
    },
    {
      "cell_type": "code",
      "metadata": {
        "id": "KQFYmaIPtyw3"
      },
      "source": [
        "from pyspark.sql import SparkSession\n",
        "spark = SparkSession.builder.appName(\"M16-Amazon-Challenge\").config(\"spark.driver.extraClassPath\",\"/content/postgresql-42.2.16.jar\").getOrCreate()"
      ],
      "execution_count": 3,
      "outputs": []
    },
    {
      "cell_type": "code",
      "metadata": {
        "id": "aQ4uEfoyt4Wp"
      },
      "source": [
        "from pyspark import SparkFiles\n",
        "url = \"https://s3.amazonaws.com/amazon-reviews-pds/tsv/amazon_reviews_us_Shoes_v1_00.tsv.gz\"\n",
        "spark.sparkContext.addFile(url)"
      ],
      "execution_count": 4,
      "outputs": []
    },
    {
      "cell_type": "code",
      "metadata": {
        "colab": {
          "base_uri": "https://localhost:8080/"
        },
        "id": "cJBmivzYt-iH",
        "outputId": "bed4c8fb-67e8-429f-d8ba-c62720af83ca"
      },
      "source": [
        "from pyspark.sql.functions import to_date\n",
        "# Read in the Review dataset as a DataFrame\n",
        "df = spark.read.option(\"encoding\", \"UTF-8\").csv(SparkFiles.get(\"\"), sep=\"\\t\", header=True, inferSchema=True)\n",
        "df.show()"
      ],
      "execution_count": 5,
      "outputs": [
        {
          "output_type": "stream",
          "name": "stdout",
          "text": [
            "+-----------+-----------+--------------+----------+--------------+--------------------+----------------+-----------+-------------+-----------+----+-----------------+--------------------+--------------------+-----------+\n",
            "|marketplace|customer_id|     review_id|product_id|product_parent|       product_title|product_category|star_rating|helpful_votes|total_votes|vine|verified_purchase|     review_headline|         review_body|review_date|\n",
            "+-----------+-----------+--------------+----------+--------------+--------------------+----------------+-----------+-------------+-----------+----+-----------------+--------------------+--------------------+-----------+\n",
            "|         US|   18069663|R3P2HIOQCIN5ZU|B000XB31C0|     265024781|Minnetonka Men's ...|           Shoes|          1|            0|          0|   N|                Y|                   .|Do not buy: reall...| 2015-08-31|\n",
            "|         US|   16251825|R12VVR0WH5Q24V|B00CFYZH5W|     259035853|Teva Men's Pajaro...|           Shoes|          5|            0|          0|   N|                Y|     super flip flop|provides great cu...| 2015-08-31|\n",
            "|         US|   20381037| RNCCKB6TV5EEF|B00S8JNN3Q|     666066660|Anne Klein Perfec...|           Shoes|          4|            0|          0|   N|                Y| Great clutch purse!|It's perfect if y...| 2015-08-31|\n",
            "|         US|     108364|R2NZXYIVCGB13W|B00XFBPOQG|     448483263|adidas Men's 10K ...|           Shoes|          5|            0|          6|   N|                Y|              Badass|  Getting what u see| 2015-08-31|\n",
            "|         US|   45449350|R2EQ1TG9IT3OEQ|B00SW64Y9W|       7853171|OverBling Sneaker...|           Shoes|          3|            0|          0|   N|                Y|         Three Stars|               small| 2015-08-31|\n",
            "|         US|   19324665|R1WXA9JSC2H1U1|B011F9E6LI|      14311457|MESSI 15.3 FG/AG ...|           Shoes|          5|            1|          1|   N|                Y|          Five Stars|My 13 year old so...| 2015-08-31|\n",
            "|         US|   50073594|R12ENYLFGGNWRV|B00HAUP1OI|     264821602|Hoka One One Men'...|           Shoes|          5|            1|          1|   N|                Y|Finally, some cus...|Ok, I have been s...| 2015-08-31|\n",
            "|         US|   21706057|R2R07E5PNXEUO5|B00L1RKOKW|     767118055|Olukai Nohea Mesh...|           Shoes|          4|            0|          0|   N|                Y|good deal, but ha...|I went a full siz...| 2015-08-31|\n",
            "|         US|   13708216|R27BA52AKWMWN3|B005WA9MSE|     813856438|Carolina Mens 6\" ...|           Shoes|          5|            0|          0|   N|                Y|... would have to...|I would have to s...| 2015-08-31|\n",
            "|         US|   40542649| RLF8DOID2KD5O|B00BEYQI5C|     661491213|Alegria Women's S...|           Shoes|          3|            0|          0|   N|                Y|           Too small|The size is misle...| 2015-08-31|\n",
            "|         US|   13409446|R369CEXHXHC6NQ|B00EYAFTCQ|     332158165|Naturalizer Women...|           Shoes|          5|            0|          0|   N|                Y|          Five Stars|These shoes are v...| 2015-08-31|\n",
            "|         US|    9451727|R171PPIJXFONVI|B00I0QHY32|      49243908|Forever Link Wome...|           Shoes|          5|            0|          0|   N|                Y|          Five Stars|I love these sand...| 2015-08-31|\n",
            "|         US|     193731|R2JDNM8F2P06FU|B010FZZKYA|     161497902|Versace Collectio...|           Shoes|          4|            1|          1|   N|                Y|          Four Stars|Good quality shoe...| 2015-08-31|\n",
            "|         US|   34798634|R2W977FO4M97XT|B00V8B30K2|     759958795|Twisted Girl's Ch...|           Shoes|          5|            0|          1|   N|                Y|Good shoes, comfo...|My daughter reall...| 2015-08-31|\n",
            "|         US|   37235551|R3AM24QPLI28UY|B00LAVB1TC|     910150896|Travel Smart Hand...|           Shoes|          2|            1|          2|   N|                Y|           Two Stars|         It's okay .| 2015-08-31|\n",
            "|         US|   27081399| REDVXSFYVNT5T|B003C1P8B0|     762792587|Saucony Originals...|           Shoes|          5|            0|          0|   N|                Y|    Love these shoes|Love these shoes!...| 2015-08-31|\n",
            "|         US|     120678|R14AIIK7D6ENDZ|B000W3UL7W|     123724495|Dr. Marten's Wome...|           Shoes|          5|            0|          0|   N|                Y|          Five Stars|                Good| 2015-08-31|\n",
            "|         US|   22272389|R3B1NURKMCVAL1|B00LX65PQO|     848850234|Skechers Performa...|           Shoes|          3|            2|          2|   N|                Y|         Three Stars|I like the go wal...| 2015-08-31|\n",
            "|         US|   19584241|R14Q1GZGV10IMX|B00BEE7N3I|     211637196|Hi-Tec Kid's Nepa...|           Shoes|          4|            0|          0|   N|                Y|          Four Stars|Kids love them fo...| 2015-08-31|\n",
            "|         US|   12334573| R9BHBB06QD6TM|B008NCHMBW|     138572112|Foot Sox Original...|           Shoes|          1|            2|          2|   N|                Y|Tissue paper is t...|Tissue paper is t...| 2015-08-31|\n",
            "+-----------+-----------+--------------+----------+--------------+--------------------+----------------+-----------+-------------+-----------+----+-----------------+--------------------+--------------------+-----------+\n",
            "only showing top 20 rows\n",
            "\n"
          ]
        }
      ]
    },
    {
      "cell_type": "code",
      "metadata": {
        "id": "U4Jx3dtMuNx0"
      },
      "source": [
        "# Filter data to new DataFrame to retrieve all rows >=20 total_votes \n",
        "min_votes_df = df.filter(df.total_votes >= 20)"
      ],
      "execution_count": 6,
      "outputs": []
    },
    {
      "cell_type": "code",
      "metadata": {
        "id": "Vy3SStUhuUhS"
      },
      "source": [
        "# Create new column showing percent of helpful votes\n",
        "helpful_votes_df = min_votes_df.withColumn('percent_helpful_votes', min_votes_df['helpful_votes'] / min_votes_df['total_votes'])"
      ],
      "execution_count": 7,
      "outputs": []
    },
    {
      "cell_type": "code",
      "metadata": {
        "colab": {
          "base_uri": "https://localhost:8080/"
        },
        "id": "l4nZ-va8uYlU",
        "outputId": "f17e453f-ea0a-49b2-f44d-41674a462fa0"
      },
      "source": [
        "# Filter helpful votes to show all rows >= 50%\n",
        "helpful_votes_df.filter(helpful_votes_df.percent_helpful_votes >= 0.5).count()"
      ],
      "execution_count": 8,
      "outputs": [
        {
          "output_type": "execute_result",
          "data": {
            "text/plain": [
              "27009"
            ]
          },
          "metadata": {},
          "execution_count": 8
        }
      ]
    },
    {
      "cell_type": "code",
      "metadata": {
        "colab": {
          "base_uri": "https://localhost:8080/"
        },
        "id": "siF9_FlRud3G",
        "outputId": "3436a570-88ac-4292-b2b8-b8569c5eefa8"
      },
      "source": [
        "# Filter df into new df where review was written with Vine program (vine =='Y')\n",
        "vine_reviews_df = helpful_votes_df.filter(helpful_votes_df.vine =='Y')\n",
        "vine_reviews_df.show()"
      ],
      "execution_count": 10,
      "outputs": [
        {
          "output_type": "stream",
          "name": "stdout",
          "text": [
            "+-----------+-----------+--------------+----------+--------------+--------------------+----------------+-----------+-------------+-----------+----+-----------------+--------------------+--------------------+-----------+---------------------+\n",
            "|marketplace|customer_id|     review_id|product_id|product_parent|       product_title|product_category|star_rating|helpful_votes|total_votes|vine|verified_purchase|     review_headline|         review_body|review_date|percent_helpful_votes|\n",
            "+-----------+-----------+--------------+----------+--------------+--------------------+----------------+-----------+-------------+-----------+----+-----------------+--------------------+--------------------+-----------+---------------------+\n",
            "|         US|   17481726|R2N45ZKRRZS856|B00R9LA030|     587914328|New Balance Women...|           Shoes|          5|           21|         22|   Y|                N|Lightweight, Plen...|* While I've got ...| 2015-07-19|   0.9545454545454546|\n",
            "|         US|   34395794| R5OMLMK13A8NS|B00R9LA030|     587914328|New Balance Women...|           Shoes|          5|           34|         38|   Y|                N|Light, super-comf...|I am an inveterat...| 2015-07-13|   0.8947368421052632|\n",
            "|         US|   20151467|R2MPEQ4SPTEQNS|B00M15DG80|     638946346|Timberland Advent...|           Shoes|          4|          180|        184|   Y|                N|Good middle groun...|This is a pre-sum...| 2015-03-07|   0.9782608695652174|\n",
            "|         US|   51744990| RIR0D3KJ0CQ31|B00KQ2VQDC|     646945894|New Balance Women...|           Shoes|          4|           21|         21|   Y|                N|Very Good Neutral...|I am a long-time ...| 2015-02-07|                  1.0|\n",
            "|         US|   21155796|R1SPWJDHUWWC5E|B00LNN1EZ8|     257160693|New Balance Women...|           Shoes|          5|           88|         98|   Y|                N|NB Trainers desig...|These trainers ar...| 2015-02-06|   0.8979591836734694|\n",
            "|         US|   34030399|R1X6M5XA3FT98W|B00KQ57KWK|     615890400|New Balance Women...|           Shoes|          5|           24|         26|   Y|                N|Review from an ac...|I received a comp...| 2015-02-04|   0.9230769230769231|\n",
            "|         US|   52807614|R37VCW6HA0Z72T|B00NHUVTPA|     446678543|Foster Grant Zera...|           Shoes|          5|           27|         28|   Y|                N|New favorite read...|My wife likes to ...| 2015-01-31|   0.9642857142857143|\n",
            "|         US|   47694591|R2XRYNV2SY3ZKL|B00NHUW1NE|     789124161|Foster Grant Char...|           Shoes|          5|           53|         56|   Y|                N|I Can Not Pry The...|I opened up the p...| 2015-01-27|   0.9464285714285714|\n",
            "|         US|   45889291|R1Y93KWKAX1P5N|B00NHUVN10|     733135792|Foster Grant Sawy...|           Shoes|          2|           26|         31|   Y|                N|Same deal as othe...|I'm 47, and until...| 2015-01-23|   0.8387096774193549|\n",
            "|         US|   52195752|R2QVTDYYLTP8SL|B00NHUVFGS|     221663141|Foster Grant Cona...|           Shoes|          5|           21|         24|   Y|                N|        I Love These|Having recently l...| 2015-01-23|                0.875|\n",
            "|         US|   50909644|R3KOK2SH39BZU1|B00NHUVF18|     221663141|Foster Grant Cona...|           Shoes|          3|           94|         96|   Y|                N|Non prescription ...|I have a desk fil...| 2015-01-23|   0.9791666666666666|\n",
            "|         US|   52464466|R2VOM73EHLPXJW|B00NHUVFGS|     221663141|Foster Grant Cona...|           Shoes|          4|           35|         38|   Y|                N|Surprisingly nice...|These are surpris...| 2015-01-22|   0.9210526315789473|\n",
            "|         US|   38066245|R3SEZS7BZEC69Y|B00NHUVTSM|     446678543|Foster Grant Zera...|           Shoes|          5|           16|         20|   Y|                N|These work as goo...|I was very surpri...| 2015-01-21|                  0.8|\n",
            "|         US|   33172089|R1MJ5J272V19O6|B00NHUW1UW|     789124161|Foster Grant Char...|           Shoes|          4|           49|         51|   Y|                N|Be aware of the l...|Okay. I know. Yes...| 2015-01-21|   0.9607843137254902|\n",
            "|         US|   50892063|R3A7BQX1JDKOM5|B00NHUV8SI|     968516609|Foster Grant Wes ...|           Shoes|          4|           20|         20|   Y|                N|My prescription g...|I've been looking...| 2015-01-18|                  1.0|\n",
            "|         US|   52637443|R1307JMPUEQXOW|B00M32FLL6|     329154367|Mizuno Women's Wa...|           Shoes|          5|           31|         35|   Y|                N|Great Shoes- but ...|These are great s...| 2014-12-27|   0.8857142857142857|\n",
            "|         US|   53058739| RXV0SDXE5B15T|B00IF3BG6G|     978028219|Cole Haan Women's...|           Shoes|          2|           39|         42|   Y|                N|Should have bette...|First the good: T...| 2014-12-09|   0.9285714285714286|\n",
            "|         US|   50145419| RBMDYE7LUH9FI|B00D8HXHYI|      82299308|New Balance Women...|           Shoes|          5|           26|         32|   Y|                N|An eye catching s...|I'm in so love wi...| 2014-07-15|               0.8125|\n",
            "|         US|   13303929|R1N4W961QV59BV|B00DOE9QFY|     877581216|New Balance Women...|           Shoes|          5|           25|         34|   Y|                N|A review from Boo...|The first thing t...| 2014-07-01|   0.7352941176470589|\n",
            "|         US|   50828717|R11XKHFS4KQS3Z|B00DOEA73O|     877581216|New Balance Women...|           Shoes|          4|          205|        211|   Y|                N|Nice style but to...|I am a fan of New...| 2014-06-30|   0.9715639810426541|\n",
            "+-----------+-----------+--------------+----------+--------------+--------------------+----------------+-----------+-------------+-----------+----+-----------------+--------------------+--------------------+-----------+---------------------+\n",
            "only showing top 20 rows\n",
            "\n"
          ]
        }
      ]
    },
    {
      "cell_type": "code",
      "metadata": {
        "colab": {
          "base_uri": "https://localhost:8080/"
        },
        "id": "oCPsCjPDujT6",
        "outputId": "01f8f248-0789-4241-b314-4a4fc043f5b8"
      },
      "source": [
        "# Filter df into new df where review was written without Vine program (vine =='N')\n",
        "non_vine_reviews_df = helpful_votes_df.filter(helpful_votes_df.vine =='N')\n",
        "non_vine_reviews_df.show()"
      ],
      "execution_count": 11,
      "outputs": [
        {
          "output_type": "stream",
          "name": "stdout",
          "text": [
            "+-----------+-----------+--------------+----------+--------------+--------------------+----------------+-----------+-------------+-----------+----+-----------------+--------------------+--------------------+-----------+---------------------+\n",
            "|marketplace|customer_id|     review_id|product_id|product_parent|       product_title|product_category|star_rating|helpful_votes|total_votes|vine|verified_purchase|     review_headline|         review_body|review_date|percent_helpful_votes|\n",
            "+-----------+-----------+--------------+----------+--------------+--------------------+----------------+-----------+-------------+-----------+----+-----------------+--------------------+--------------------+-----------+---------------------+\n",
            "|         US|   52181093|R37F42INKX7L9K|B00TQ6L9TK|     316459194|Travelon Converti...|           Shoes|          5|           45|         49|   N|                Y|Hermione Granger'...|I've been trying ...| 2015-08-31|   0.9183673469387755|\n",
            "|         US|   25865070|R2EHKYNEP8WVSR|B00UJ6B33I|     962947795|Hoxis Tassel Faux...|           Shoes|          5|           25|         25|   N|                Y|          Five Stars|Perfect size purs...| 2015-08-31|                  1.0|\n",
            "|         US|   43547721| RXOS7BHID0UHL|B010KK08LU|     128319757|Adidas Yeezy Boos...|           Shoes|          5|           16|         27|   N|                N|Had to sell my do...|I have always wan...| 2015-08-31|   0.5925925925925926|\n",
            "|         US|   48198529|R33HHGFPB403GM|B009K1WFAI|     875585913|Gucci GG1008 Eyeg...|           Shoes|          5|           19|         21|   N|                Y|          Five Stars|Love at first sig...| 2015-08-31|   0.9047619047619048|\n",
            "|         US|    6650445| RY9O9XNLP464N|B0117P7DV0|     445316900|KENSBUY Men's Lig...|           Shoes|          2|           19|         22|   N|                Y|    Can't Wear These|So small that I c...| 2015-08-31|   0.8636363636363636|\n",
            "|         US|   39742745|R2VP11C28JAEZF|B00S8CF9OE|     484693340|Merrell Women's M...|           Shoes|          5|           30|         30|   N|                Y|               Love!|These are minimal...| 2015-08-31|                  1.0|\n",
            "|         US|    3815095|R1TXGR1HA2M3P3|B00FNHMWG0|     853723688|Breckelles Women ...|           Shoes|          5|           28|         29|   N|                Y|I love them. I re...|I love them.<br /...| 2015-08-31|   0.9655172413793104|\n",
            "|         US|   51299002| R6OD85TMEMHQQ|B00KZJ0W4K|     813787483|Merrell Women's A...|           Shoes|          5|           28|         28|   N|                Y|Well made, modera...|After literally h...| 2015-08-31|                  1.0|\n",
            "|         US|    4645804|R1G4PAJXP3FTN7|B00LHUF7KA|      72964553|Five Ten Men's Fr...|           Shoes|          2|           43|         51|   N|                Y|Save your money p...|The quality is le...| 2015-08-31|   0.8431372549019608|\n",
            "|         US|    4261403|R2P2S8UGUMCOLX|B00WDWHHR2|     485655175|Betsey Johnson Te...|           Shoes|          5|           21|         22|   N|                Y|   I love this purse|I love this purse...| 2015-08-31|   0.9545454545454546|\n",
            "|         US|     108480| RBTQKXGJ9RP7C|B00XTNCOFO|     380758921|Micom 2017 Simple...|           Shoes|          1|           33|         33|   N|                Y|This purse should...|Let down!<br />I ...| 2015-08-31|                  1.0|\n",
            "|         US|   14892488|R342L93CXGDZO5|B00ZY3U7SS|      61663457|Franco Sarto Wome...|           Shoes|          2|           73|         76|   N|                Y|           Returning|&#34;Imported&#34...| 2015-08-31|   0.9605263157894737|\n",
            "|         US|   12268557|R31Z97KFD4HMNF|B00SK7TJ52|      47177433|Hot Chocolate Des...|           Shoes|          3|           23|         26|   N|                Y|I wish they would...|I bought 2 pair o...| 2015-08-31|   0.8846153846153846|\n",
            "|         US|   35626881|R2NDB7EQLYK87A|B00QH47Y34|     316874970|Brooks Womens Gho...|           Shoes|          5|           44|         46|   N|                Y|Not just for runn...|I tend bar and ha...| 2015-08-31|   0.9565217391304348|\n",
            "|         US|   51216855|R1C0W0OSBCVXC2|B00SNEQGW6|     182024722|FitFlop Women's S...|           Shoes|          1|           45|         46|   N|                Y|      Not well built|I bought these fl...| 2015-08-31|   0.9782608695652174|\n",
            "|         US|   10262456|R154Q41ID7FTFC|B010PC389M|     446355055|Kattee Women's Pu...|           Shoes|          5|           24|         26|   N|                Y|Fabulous silver m...|LOVE this leather...| 2015-08-31|   0.9230769230769231|\n",
            "|         US|   42205771|R3GFX9ZNZ0T3TA|B00XGH7SMM|     891843405|Hazel's Star Quad...|           Shoes|          1|           35|         35|   N|                Y|Shoe came apart o...|One shoe fell apa...| 2015-08-31|                  1.0|\n",
            "|         US|    3136659|R2H8MH0N2IZKMY|B00QTD5SQI|     229380469|Inov-8 Men's Terr...|           Shoes|          5|           22|         23|   N|                Y|  Simply the Best!!!|AWESOME shoes. Ra...| 2015-08-31|   0.9565217391304348|\n",
            "|         US|    2532037|R1MYE8WQ3812L8|B0014F61LM|     106800701|Kipling Seoul Sol...|           Shoes|          5|           17|         20|   N|                Y|          Five Stars|                null| 2015-08-31|                 0.85|\n",
            "|         US|    1082025| RYSL8MU2858GB|B00QM5BY8O|     377048469|Skechers for Work...|           Shoes|          5|           71|         73|   N|                Y|best nonslip shoe...|I work in a resta...| 2015-08-31|   0.9726027397260274|\n",
            "+-----------+-----------+--------------+----------+--------------+--------------------+----------------+-----------+-------------+-----------+----+-----------------+--------------------+--------------------+-----------+---------------------+\n",
            "only showing top 20 rows\n",
            "\n"
          ]
        }
      ]
    },
    {
      "cell_type": "code",
      "metadata": {
        "colab": {
          "base_uri": "https://localhost:8080/"
        },
        "id": "kbT5qwiHvEQh",
        "outputId": "97d01491-6bf6-4f22-fe9a-adc21fffe45e"
      },
      "source": [
        "# Determine the total number of reviews\n",
        "helpful_votes_df.select(['review_id']).count()"
      ],
      "execution_count": 12,
      "outputs": [
        {
          "output_type": "execute_result",
          "data": {
            "text/plain": [
              "27884"
            ]
          },
          "metadata": {},
          "execution_count": 12
        }
      ]
    },
    {
      "cell_type": "code",
      "metadata": {
        "colab": {
          "base_uri": "https://localhost:8080/"
        },
        "id": "k-AyQ7WCvbSD",
        "outputId": "82609a7b-84b8-4df9-88e2-98c97dea27ee"
      },
      "source": [
        "# Determine the number of 5-star reviews\n",
        "helpful_votes_df.filter(helpful_votes_df.star_rating == 5).count()"
      ],
      "execution_count": 13,
      "outputs": [
        {
          "output_type": "execute_result",
          "data": {
            "text/plain": [
              "14594"
            ]
          },
          "metadata": {},
          "execution_count": 13
        }
      ]
    },
    {
      "cell_type": "code",
      "metadata": {
        "colab": {
          "base_uri": "https://localhost:8080/"
        },
        "id": "Z9e-2fj_vqUy",
        "outputId": "6c664bfb-62f1-4b5a-d9c1-b9fea1ca2936"
      },
      "source": [
        "# Determine the percentage of 5-star ratings for Vine program reviews\n",
        "vine_reviews_df.filter(vine_reviews_df.star_rating == 5).count() / vine_reviews_df.count()"
      ],
      "execution_count": 14,
      "outputs": [
        {
          "output_type": "execute_result",
          "data": {
            "text/plain": [
              "0.5909090909090909"
            ]
          },
          "metadata": {},
          "execution_count": 14
        }
      ]
    },
    {
      "cell_type": "code",
      "metadata": {
        "colab": {
          "base_uri": "https://localhost:8080/"
        },
        "id": "kejvC1SlZJr2",
        "outputId": "b4803de1-592a-4f29-d91d-567a9fd95aa3"
      },
      "source": [
        "# Determine the percentage of 5-star ratings for non-Vine program reviews\n",
        "non_vine_reviews_df.filter(non_vine_reviews_df.star_rating == 5).count() / non_vine_reviews_df.count()"
      ],
      "execution_count": 15,
      "outputs": [
        {
          "output_type": "execute_result",
          "data": {
            "text/plain": [
              "0.5233292656664992"
            ]
          },
          "metadata": {},
          "execution_count": 15
        }
      ]
    }
  ]
}